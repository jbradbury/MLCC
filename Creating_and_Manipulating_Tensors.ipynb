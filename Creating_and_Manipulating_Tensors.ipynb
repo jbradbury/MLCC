{
 "cells": [
  {
   "cell_type": "markdown",
   "metadata": {},
   "source": [
    "# Creating and Manipulating tensors "
   ]
  },
  {
   "cell_type": "markdown",
   "metadata": {},
   "source": [
    "https://colab.research.google.com/notebooks/mlcc/creating_and_manipulating_tensors.ipynb?utm_source=mlcc&utm_campaign=colab-external&utm_medium=referral&utm_content=tensors-colab&hl=en"
   ]
  },
  {
   "cell_type": "code",
   "execution_count": 3,
   "metadata": {},
   "outputs": [
    {
     "name": "stdout",
     "output_type": "stream",
     "text": [
      "TF already imported with eager execution\n"
     ]
    }
   ],
   "source": [
    "from __future__ import print_function\n",
    "import tensorflow as tf\n",
    "\n",
    "try:\n",
    "    tf.contrib.eager.enable_eager_execution()\n",
    "    print(\"TF imported with eager execution!\")\n",
    "except ValueError:\n",
    "    print(\"TF already imported with eager execution\")"
   ]
  },
  {
   "cell_type": "markdown",
   "metadata": {},
   "source": [
    "\n",
    "## Vector Addition"
   ]
  },
  {
   "cell_type": "code",
   "execution_count": 6,
   "metadata": {},
   "outputs": [
    {
     "name": "stdout",
     "output_type": "stream",
     "text": [
      "primes: tf.Tensor([ 2  3  5  7 11 13], shape=(6,), dtype=int32)\n",
      "ones: tf.Tensor([1 1 1 1 1 1], shape=(6,), dtype=int32)\n",
      "just_beyond_primes: tf.Tensor([ 3  4  6  8 12 14], shape=(6,), dtype=int32)\n",
      "primes_doubled: tf.Tensor([ 4  6 10 14 22 26], shape=(6,), dtype=int32)\n"
     ]
    }
   ],
   "source": [
    "# A primes vector containing prime numbers\n",
    "primes = tf.constant([2, 3, 5, 7, 11, 13], dtype=tf.int32)\n",
    "print(\"primes:\", primes)\n",
    "\n",
    "# A ones vector containing all 1 values\n",
    "ones = tf.ones([6], dtype=tf.int32)\n",
    "print(\"ones:\", ones)\n",
    "\n",
    "# A vector created by performing element-wise addition over the first two vectors\n",
    "just_beyond_primes = tf.add(primes, ones)\n",
    "print(\"just_beyond_primes:\", just_beyond_primes)\n",
    "\n",
    "# A vector created by doubling the elements in the primes vector\n",
    "twos = tf.constant([2, 2, 2, 2, 2, 2], dtype=tf.int32)\n",
    "primes_doubled = primes * twos\n",
    "print(\"primes_doubled:\", primes_doubled)"
   ]
  },
  {
   "cell_type": "markdown",
   "metadata": {},
   "source": [
    "Printing a tensor returns its value, its shape and the type of data stored in the tensor. Calling the numppy method of a tensor returns the value of the tensor as numpy array"
   ]
  },
  {
   "cell_type": "code",
   "execution_count": 7,
   "metadata": {},
   "outputs": [
    {
     "name": "stdout",
     "output_type": "stream",
     "text": [
      "tf.Tensor(\n",
      "[[1 2 3]\n",
      " [4 5 6]], shape=(2, 3), dtype=int32)\n",
      "\n",
      "value of some matrix is:\n",
      " [[1 2 3]\n",
      " [4 5 6]]\n"
     ]
    }
   ],
   "source": [
    "some_matrix = tf.constant([[1, 2, 3], [4, 5, 6]], dtype=tf.int32)\n",
    "print(some_matrix)\n",
    "print(\"\\nvalue of some matrix is:\\n\", some_matrix.numpy())"
   ]
  },
  {
   "cell_type": "markdown",
   "metadata": {},
   "source": [
    "## Tensor shapes"
   ]
  },
  {
   "cell_type": "markdown",
   "metadata": {},
   "source": [
    "Shapes are used to characterise the size and number of dimensions of a tensor.\n",
    "The shape of a tensor is expressed as a ```list``` with the ```ith``` element representing the size along dimension ```i```.\n",
    "The length of the list indicates the rank of the tensor (i.e., the number of dimensions)"
   ]
  },
  {
   "cell_type": "code",
   "execution_count": 8,
   "metadata": {},
   "outputs": [
    {
     "name": "stdout",
     "output_type": "stream",
     "text": [
      "scalar has shape () and value:\n",
      " 0.0\n",
      "vector has shape (3,) and value:\n",
      " [0. 0. 0.]\n",
      "matrix has shape (2, 3) and value:\n",
      " [[0. 0. 0.]\n",
      " [0. 0. 0.]]\n"
     ]
    }
   ],
   "source": [
    "# A scalar (0-D tensor).\n",
    "scalar = tf.zeros([])\n",
    "\n",
    "# A vector with 3 elements.\n",
    "vector = tf.zeros([3])\n",
    "\n",
    "# A matrix with 2 rows and 3 columns.\n",
    "matrix = tf.zeros([2, 3])\n",
    "\n",
    "print('scalar has shape', scalar.get_shape(), 'and value:\\n', scalar.numpy())\n",
    "print('vector has shape', vector.get_shape(), 'and value:\\n', vector.numpy())\n",
    "print('matrix has shape', matrix.get_shape(), 'and value:\\n', matrix.numpy())"
   ]
  },
  {
   "cell_type": "markdown",
   "metadata": {},
   "source": [
    "## Broadcasting\n",
    "TensorFlow supports numpy broadcasting: operations can be preformed on different size tensors.\n",
    "\n",
    "When **broadcasting**, the smaller array in an element-wise operation is enlarged to have the same sahpe as the larger array.\n",
    "\n",
    "The following code performs the same tensor arithmetic as before, but instead uses scalar values (instead of vectors containg all 1s or all 2s) and broadcasting"
   ]
  },
  {
   "cell_type": "code",
   "execution_count": 13,
   "metadata": {},
   "outputs": [
    {
     "name": "stdout",
     "output_type": "stream",
     "text": [
      "primes: tf.Tensor([ 2  3  5  7 11 13], shape=(6,), dtype=int32)\n",
      "one: tf.Tensor(1, shape=(), dtype=int32)\n",
      "just_beyond_primes: tf.Tensor([ 3  4  6  8 12 14], shape=(6,), dtype=int32)\n",
      "primes_doubled: tf.Tensor([ 4  6 10 14 22 26], shape=(6,), dtype=int32)\n"
     ]
    }
   ],
   "source": [
    "primes = tf.constant([2, 3, 5, 7, 11, 13], dtype=tf.int32)\n",
    "print(\"primes:\", primes)\n",
    "\n",
    "one = tf.constant(1, dtype=tf.int32)\n",
    "print(\"one:\", one)\n",
    "\n",
    "just_beyond_primes = tf.add(primes, one)\n",
    "print(\"just_beyond_primes:\", just_beyond_primes)\n",
    "\n",
    "two = tf.constant(2, dtype=tf.int32)\n",
    "primes_doubled = primes * two\n",
    "print(\"primes_doubled:\", primes_doubled)"
   ]
  },
  {
   "cell_type": "markdown",
   "metadata": {},
   "source": [
    "## Exercise 1: Aritmetic over vectors\n",
    "Perform vector arithmetic to create a \"just_under_primes_squared\" vector, where the ith element is equal to the ith element in primes squared, minus 1. For example, the second element would be equal to 3 * 3 - 1 = 8.\n",
    "\n",
    "Make use of either the tf.multiply or tf.pow ops to square the value of each element in the primes vector."
   ]
  },
  {
   "cell_type": "code",
   "execution_count": 14,
   "metadata": {},
   "outputs": [
    {
     "name": "stdout",
     "output_type": "stream",
     "text": [
      "just_under_primes_squared: tf.Tensor([  3   8  24  48 120 168], shape=(6,), dtype=int32)\n"
     ]
    }
   ],
   "source": [
    "just_under_primes_squared = tf.pow(primes, two) - 1\n",
    "print(\"just_under_primes_squared:\", just_under_primes_squared)"
   ]
  },
  {
   "cell_type": "code",
   "execution_count": 15,
   "metadata": {},
   "outputs": [
    {
     "name": "stdout",
     "output_type": "stream",
     "text": [
      "just_under_primes_squared: tf.Tensor([  3   8  24  48 120 168], shape=(6,), dtype=int32)\n"
     ]
    }
   ],
   "source": [
    "primes_squared = tf.pow(primes, 2)\n",
    "just_under_primes_squared = tf.subtract(primes_squared, one)\n",
    "print(\"just_under_primes_squared:\", just_under_primes_squared)"
   ]
  },
  {
   "cell_type": "markdown",
   "metadata": {},
   "source": [
    "## Matrix Multiplication\n",
    "When multiplying matricies, the number of *columns* must equal the number of *rows*. "
   ]
  },
  {
   "cell_type": "code",
   "execution_count": 18,
   "metadata": {},
   "outputs": [
    {
     "name": "stdout",
     "output_type": "stream",
     "text": [
      "tf.Tensor(\n",
      "[[35 58]\n",
      " [35 33]\n",
      " [ 1 -4]], shape=(3, 2), dtype=int32)\n"
     ]
    }
   ],
   "source": [
    "# A 3x4 matrix (2-d tensor).\n",
    "x = tf.constant([[5, 2, 4, 3], [5, 1, 6, -2], [-1, 3, -1, -2]], dtype=tf.int32)\n",
    "\n",
    "# A 4x2 matrix (2-d tensor).\n",
    "y = tf.constant([[2, 2], [3, 5], [4, 5], [1, 6]], dtype=tf.int32)\n",
    "\n",
    "# Multiply `x` by `y`; result is a 3x2 matrix.\n",
    "matrix_multiply_result = tf.matmul(x, y)\n",
    "\n",
    "print(matrix_multiply_result)"
   ]
  },
  {
   "cell_type": "code",
   "execution_count": null,
   "metadata": {
    "collapsed": true
   },
   "outputs": [],
   "source": []
  }
 ],
 "metadata": {
  "kernelspec": {
   "display_name": "Python 3",
   "language": "python",
   "name": "python3"
  },
  "language_info": {
   "codemirror_mode": {
    "name": "ipython",
    "version": 3
   },
   "file_extension": ".py",
   "mimetype": "text/x-python",
   "name": "python",
   "nbconvert_exporter": "python",
   "pygments_lexer": "ipython3",
   "version": "3.6.2"
  }
 },
 "nbformat": 4,
 "nbformat_minor": 2
}
