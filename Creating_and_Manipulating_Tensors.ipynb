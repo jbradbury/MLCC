{
 "cells": [
  {
   "cell_type": "markdown",
   "metadata": {},
   "source": [
    "# Creating and Manipulating tensors "
   ]
  },
  {
   "cell_type": "markdown",
   "metadata": {},
   "source": [
    "https://colab.research.google.com/notebooks/mlcc/creating_and_manipulating_tensors.ipynb?utm_source=mlcc&utm_campaign=colab-external&utm_medium=referral&utm_content=tensors-colab&hl=en"
   ]
  },
  {
   "cell_type": "code",
   "execution_count": 3,
   "metadata": {},
   "outputs": [
    {
     "name": "stdout",
     "output_type": "stream",
     "text": [
      "TF already imported with eager execution\n"
     ]
    }
   ],
   "source": [
    "from __future__ import print_function\n",
    "import tensorflow as tf\n",
    "\n",
    "try:\n",
    "    tf.contrib.eager.enable_eager_execution()\n",
    "    print(\"TF imported with eager execution!\")\n",
    "except ValueError:\n",
    "    print(\"TF already imported with eager execution\")"
   ]
  },
  {
   "cell_type": "markdown",
   "metadata": {},
   "source": [
    "\n",
    "## Vector Addition"
   ]
  },
  {
   "cell_type": "code",
   "execution_count": 5,
   "metadata": {},
   "outputs": [
    {
     "name": "stdout",
     "output_type": "stream",
     "text": [
      "primes: tf.Tensor([ 2  3  5  7 11 13], shape=(6,), dtype=int32)\n",
      "ones: tf.Tensor([1 1 1 1 1 1], shape=(6,), dtype=int32)\n",
      "just_beyond_primes: tf.Tensor([ 3  4  6  8 12 14], shape=(6,), dtype=int32)\n",
      "primes_doubled: tf.Tensor([ 4  6 10 14 22 26], shape=(6,), dtype=int32)\n"
     ]
    }
   ],
   "source": [
    "# A primes vector containing prime numbers\n",
    "primes = tf.constant([2, 3, 5, 7, 11, 13], dtype=tf.int32)\n",
    "print(\"primes:\", primes)\n",
    "\n",
    "# A ones vector containing all 1 values\n",
    "ones = tf.ones([6], dtype=tf.int32)\n",
    "print(\"ones:\", ones)\n",
    "\n",
    "# A vector created by performing element-wise addition over the first two vectors\n",
    "just_beyond_primes = tf.add(primes, ones)\n",
    "print(\"just_beyond_primes:\", just_beyond_primes)\n",
    "\n",
    "# A vector created by doubling the elements in the primes vector\n",
    "twos = tf.constant([2, 2, 2, 2, 2, 2], dtype=tf.int32)\n",
    "primes_doubled = primes * twos\n",
    "print(\"primes_doubled:\", primes_doubled)"
   ]
  }
 ],
 "metadata": {
  "kernelspec": {
   "display_name": "Python 3",
   "language": "python",
   "name": "python3"
  },
  "language_info": {
   "codemirror_mode": {
    "name": "ipython",
    "version": 3
   },
   "file_extension": ".py",
   "mimetype": "text/x-python",
   "name": "python",
   "nbconvert_exporter": "python",
   "pygments_lexer": "ipython3",
   "version": "3.6.2"
  }
 },
 "nbformat": 4,
 "nbformat_minor": 2
}
